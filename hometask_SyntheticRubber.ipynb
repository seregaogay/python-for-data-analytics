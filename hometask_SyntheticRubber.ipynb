{
 "cells": [
  {
   "cell_type": "markdown",
   "source": [
    "[![Open In Colab](https://colab.research.google.com/assets/colab-badge.svg)](https://colab.research.google.com/github/da-python/python-for-data-analytics/blob/main/Lesson3/hometask/SyntheticRubber.ipynb)"
   ],
   "metadata": {
    "collapsed": false,
    "pycharm": {
     "name": "#%% md\n"
    }
   }
  },
  {
   "cell_type": "code",
   "execution_count": 1,
   "outputs": [
    {
     "name": "stdout",
     "output_type": "stream",
     "text": [
      "Requirement already satisfied: yfinance in c:\\users\\79216\\pycharmprojects\\python-for-data-analytics\\venv\\lib\\site-packages (0.1.74)\n",
      "Requirement already satisfied: requests>=2.26 in c:\\users\\79216\\pycharmprojects\\python-for-data-analytics\\venv\\lib\\site-packages (from yfinance) (2.28.1)\n",
      "Requirement already satisfied: numpy>=1.15 in c:\\users\\79216\\pycharmprojects\\python-for-data-analytics\\venv\\lib\\site-packages (from yfinance) (1.23.1)\n",
      "Requirement already satisfied: lxml>=4.5.1 in c:\\users\\79216\\pycharmprojects\\python-for-data-analytics\\venv\\lib\\site-packages (from yfinance) (4.9.1)\n",
      "Requirement already satisfied: multitasking>=0.0.7 in c:\\users\\79216\\pycharmprojects\\python-for-data-analytics\\venv\\lib\\site-packages (from yfinance) (0.0.11)\n",
      "Requirement already satisfied: pandas>=0.24.0 in c:\\users\\79216\\pycharmprojects\\python-for-data-analytics\\venv\\lib\\site-packages (from yfinance) (1.4.3)\n",
      "Requirement already satisfied: python-dateutil>=2.8.1 in c:\\users\\79216\\pycharmprojects\\python-for-data-analytics\\venv\\lib\\site-packages (from pandas>=0.24.0->yfinance) (2.8.2)\n",
      "Requirement already satisfied: pytz>=2020.1 in c:\\users\\79216\\pycharmprojects\\python-for-data-analytics\\venv\\lib\\site-packages (from pandas>=0.24.0->yfinance) (2022.1)\n",
      "Requirement already satisfied: charset-normalizer<3,>=2 in c:\\users\\79216\\pycharmprojects\\python-for-data-analytics\\venv\\lib\\site-packages (from requests>=2.26->yfinance) (2.1.0)\n",
      "Requirement already satisfied: certifi>=2017.4.17 in c:\\users\\79216\\pycharmprojects\\python-for-data-analytics\\venv\\lib\\site-packages (from requests>=2.26->yfinance) (2022.6.15)\n",
      "Requirement already satisfied: idna<4,>=2.5 in c:\\users\\79216\\pycharmprojects\\python-for-data-analytics\\venv\\lib\\site-packages (from requests>=2.26->yfinance) (3.3)\n",
      "Requirement already satisfied: urllib3<1.27,>=1.21.1 in c:\\users\\79216\\pycharmprojects\\python-for-data-analytics\\venv\\lib\\site-packages (from requests>=2.26->yfinance) (1.26.11)\n",
      "Requirement already satisfied: six>=1.5 in c:\\users\\79216\\pycharmprojects\\python-for-data-analytics\\venv\\lib\\site-packages (from python-dateutil>=2.8.1->pandas>=0.24.0->yfinance) (1.16.0)\n"
     ]
    },
    {
     "name": "stderr",
     "output_type": "stream",
     "text": [
      "WARNING: You are using pip version 21.3.1; however, version 22.2.2 is available.\n",
      "You should consider upgrading via the 'C:\\Users\\79216\\PycharmProjects\\python-for-data-analytics\\venv\\Scripts\\python.exe -m pip install --upgrade pip' command.\n"
     ]
    }
   ],
   "source": [
    "##### При работе в Colab\n",
    "!pip install yfinance"
   ],
   "metadata": {
    "collapsed": false,
    "pycharm": {
     "name": "#%%\n"
    }
   }
  },
  {
   "cell_type": "code",
   "execution_count": 2,
   "outputs": [],
   "source": [
    "import os\n",
    "import yfinance as yf\n",
    "import pandas as pd\n",
    "import matplotlib.pyplot as plt\n",
    "import seaborn; seaborn.set()\n",
    "from tqdm.auto import tqdm"
   ],
   "metadata": {
    "collapsed": false,
    "pycharm": {
     "name": "#%%\n"
    }
   }
  },
  {
   "cell_type": "code",
   "execution_count": 3,
   "outputs": [],
   "source": [
    "# Для работы с API может потребоваться обходное решение для работы с SSL сертификатом\n",
    "import ssl\n",
    "ssl._create_default_https_context = ssl._create_unverified_context"
   ],
   "metadata": {
    "collapsed": false,
    "pycharm": {
     "name": "#%%\n"
    }
   }
  },
  {
   "cell_type": "markdown",
   "metadata": {
    "pycharm": {
     "name": "#%% md\n"
    }
   },
   "source": [
    "# Задание 1.\n",
    "\n",
    "* Вы - менеджер по продажам в нефтехимической компании.\n",
    "* Вы ведете несколько ключевых клиентов, которые закупают продукты вашей компании.\n",
    "* Ваши клиенты предпочитают формульный подход к ценообразованию и вам нужно предложить клиентам формулу цены на синтетический каучук, который может быть альтернативой натуральному каучуку с грейдом SMR 20.\n",
    "* В зависимости от объемов, которые покупают клиенты, им может быть предложена скидка.\n"
   ]
  },
  {
   "cell_type": "markdown",
   "source": [
    "### Что нужно сделать?\n",
    "\n",
    "1. Проанализировать имеющиеся данные.\n",
    "2. Определить базовую формулу цены на условиях FCA (цена на заводе). То есть как бы выглядела цена на исторических данных.\n",
    "3. Отобразить на графике.\n",
    "4. Сделать расчет возможной цены по формуле для каждого из клиентов на условиях DDP (цена с доставкой). Записать все в один эксель файл, на разных листах. Каждый лист - название клиента.\n",
    "5. Предложить формулу цены каждому из клиентов на условиях DDP (цена с доставкой).\n",
    "- Создать директорию «для клиентов» и в ней сложить файлы с расчетами.\n",
    "- Каждый клиент - отдельный файл (любой из docx, xlsx, pptx, pdf)  с именем клиента…"
   ],
   "metadata": {
    "collapsed": false,
    "pycharm": {
     "name": "#%% md\n"
    }
   }
  },
  {
   "cell_type": "code",
   "execution_count": 4,
   "outputs": [],
   "source": [
    "# Из данных есть:\n",
    "# Затраты на производство\n",
    "PRODUCTION_COST = 400 # (EUR)\n",
    "\n",
    "# Расходы на логистику\n",
    "EU_LOGISTIC_COST_EUR = 30 # в Европу в евро\n",
    "CN_LOGISTIC_COST_USD = 130 # в Китай в долларах\n",
    "\n",
    "# * Справочная информация по клиентам(объемы, локации, комментарии)\n",
    "# location - локация клиента\n",
    "# volumes - закупаемые объемы\n",
    "# formula - предпочитаемая формула расчета цены - скользящая средняя или среднее значение за месяц\n",
    "\n",
    "customers = {\n",
    "    'Monty':{\n",
    "        'location':'EU',\n",
    "        'volumes':200,\n",
    "        'formula':'moving_average'\n",
    "    },\n",
    "\n",
    "    'Triangle':{\n",
    "        'location':'CN',\n",
    "        'volumes': 30,\n",
    "        'formula': 'monthly'\n",
    "    },\n",
    "    'Stone':{\n",
    "        'location':'EU',\n",
    "        'volumes': 150,\n",
    "        'formula': 'moving_average'\n",
    "    },\n",
    "    'Poly':{\n",
    "        'location':'EU',\n",
    "        'volumes': 70,\n",
    "        'formula': 'monthly'\n",
    "    }\n",
    "}\n",
    "# Скидки\n",
    "discounts = {'up to 100': 0.01, # 1%\n",
    "             'up to 300': 0.05, # 5%\n",
    "             '300 plus': 0.1}   #10%\n"
   ],
   "metadata": {
    "collapsed": false,
    "pycharm": {
     "name": "#%%\n"
    }
   }
  },
  {
   "cell_type": "code",
   "execution_count": 8,
   "outputs": [
    {
     "name": "stdout",
     "output_type": "stream",
     "text": [
      "Requirement already satisfied: requests in c:\\users\\79216\\pycharmprojects\\python-for-data-analytics\\venv\\lib\\site-packages (2.28.1)\n",
      "Requirement already satisfied: certifi>=2017.4.17 in c:\\users\\79216\\pycharmprojects\\python-for-data-analytics\\venv\\lib\\site-packages (from requests) (2022.6.15)\n",
      "Requirement already satisfied: urllib3<1.27,>=1.21.1 in c:\\users\\79216\\pycharmprojects\\python-for-data-analytics\\venv\\lib\\site-packages (from requests) (1.26.11)\n",
      "Requirement already satisfied: charset-normalizer<3,>=2 in c:\\users\\79216\\pycharmprojects\\python-for-data-analytics\\venv\\lib\\site-packages (from requests) (2.1.0)\n",
      "Requirement already satisfied: idna<4,>=2.5 in c:\\users\\79216\\pycharmprojects\\python-for-data-analytics\\venv\\lib\\site-packages (from requests) (3.3)\n"
     ]
    },
    {
     "name": "stderr",
     "output_type": "stream",
     "text": [
      "WARNING: You are using pip version 21.3.1; however, version 22.2.2 is available.\n",
      "You should consider upgrading via the 'C:\\Users\\79216\\PycharmProjects\\python-for-data-analytics\\venv\\Scripts\\python.exe -m pip install --upgrade pip' command.\n"
     ]
    }
   ],
   "source": [
    "!pip install requests"
   ],
   "metadata": {
    "collapsed": false,
    "pycharm": {
     "name": "#%%\n"
    }
   }
  },
  {
   "cell_type": "code",
   "execution_count": 9,
   "outputs": [],
   "source": [
    "import requests"
   ],
   "metadata": {
    "collapsed": false,
    "pycharm": {
     "name": "#%%\n"
    }
   }
  },
  {
   "cell_type": "code",
   "execution_count": 10,
   "outputs": [
    {
     "data": {
      "text/plain": "  0%|          | 0/3 [00:00<?, ?it/s]",
      "application/vnd.jupyter.widget-view+json": {
       "version_major": 2,
       "version_minor": 0,
       "model_id": "e10d5c218e5e4a68b1089d7fc5aed4a8"
      }
     },
     "metadata": {},
     "output_type": "display_data"
    },
    {
     "data": {
      "text/plain": "  0%|          | 0/12 [00:00<?, ?it/s]",
      "application/vnd.jupyter.widget-view+json": {
       "version_major": 2,
       "version_minor": 0,
       "model_id": "e51233e5c8a1470c81533f2f67b6a62f"
      }
     },
     "metadata": {},
     "output_type": "display_data"
    },
    {
     "data": {
      "text/plain": "  0%|          | 0/12 [00:00<?, ?it/s]",
      "application/vnd.jupyter.widget-view+json": {
       "version_major": 2,
       "version_minor": 0,
       "model_id": "2acdfe7c28aa43d188d728e822b7be24"
      }
     },
     "metadata": {},
     "output_type": "display_data"
    },
    {
     "data": {
      "text/plain": "  0%|          | 0/12 [00:00<?, ?it/s]",
      "application/vnd.jupyter.widget-view+json": {
       "version_major": 2,
       "version_minor": 0,
       "model_id": "c61f6c524196458fa73627177e0a0871"
      }
     },
     "metadata": {},
     "output_type": "display_data"
    }
   ],
   "source": [
    "all_dfs = []\n",
    "for y in tqdm(['2020','2021','2022']):\n",
    "    for m in tqdm(['01','02','03','04','05','06','07','08','09','10','11','12']):\n",
    "        url = f\"https://www.lgm.gov.my/webv2api/api/rubberprice/month={m}&year={y}\"\n",
    "        res = requests.get(url)\n",
    "        rj = res.json()\n",
    "        temp_df = pd.json_normalize(rj)\n",
    "        all_dfs.append(temp_df)\n",
    "df = pd.concat(all_dfs)"
   ],
   "metadata": {
    "collapsed": false,
    "pycharm": {
     "name": "#%%\n"
    }
   }
  },
  {
   "cell_type": "code",
   "execution_count": 11,
   "outputs": [
    {
     "data": {
      "text/plain": "          date          grade  masa      rm      us   tone\n0   2020-01-31         SMR CV  Noon  767.50  190.70  Quiet\n1   2020-01-31          SMR L  Noon  757.50  188.20  Quiet\n2   2020-01-31          SMR 5  Noon  562.50  139.75  Quiet\n3   2020-01-31         SMR GP  Noon  559.50  139.00  Quiet\n4   2020-01-31         SMR 10  Noon  552.50  137.25  Quiet\n..         ...            ...   ...     ...     ...    ...\n58  2022-08-01          SMR 5  Noon  680.50  155.45  Quiet\n59  2022-08-01         SMR GP  Noon  677.50  154.80  Quiet\n60  2022-08-01         SMR 10  Noon  670.50  153.20  Quiet\n61  2022-08-01         SMR 20  Noon  668.50  152.75  Quiet\n62  2022-08-01  Latex in Bulk  Noon  527.50  527.50  Quiet\n\n[4431 rows x 6 columns]",
      "text/html": "<div>\n<style scoped>\n    .dataframe tbody tr th:only-of-type {\n        vertical-align: middle;\n    }\n\n    .dataframe tbody tr th {\n        vertical-align: top;\n    }\n\n    .dataframe thead th {\n        text-align: right;\n    }\n</style>\n<table border=\"1\" class=\"dataframe\">\n  <thead>\n    <tr style=\"text-align: right;\">\n      <th></th>\n      <th>date</th>\n      <th>grade</th>\n      <th>masa</th>\n      <th>rm</th>\n      <th>us</th>\n      <th>tone</th>\n    </tr>\n  </thead>\n  <tbody>\n    <tr>\n      <th>0</th>\n      <td>2020-01-31</td>\n      <td>SMR CV</td>\n      <td>Noon</td>\n      <td>767.50</td>\n      <td>190.70</td>\n      <td>Quiet</td>\n    </tr>\n    <tr>\n      <th>1</th>\n      <td>2020-01-31</td>\n      <td>SMR L</td>\n      <td>Noon</td>\n      <td>757.50</td>\n      <td>188.20</td>\n      <td>Quiet</td>\n    </tr>\n    <tr>\n      <th>2</th>\n      <td>2020-01-31</td>\n      <td>SMR 5</td>\n      <td>Noon</td>\n      <td>562.50</td>\n      <td>139.75</td>\n      <td>Quiet</td>\n    </tr>\n    <tr>\n      <th>3</th>\n      <td>2020-01-31</td>\n      <td>SMR GP</td>\n      <td>Noon</td>\n      <td>559.50</td>\n      <td>139.00</td>\n      <td>Quiet</td>\n    </tr>\n    <tr>\n      <th>4</th>\n      <td>2020-01-31</td>\n      <td>SMR 10</td>\n      <td>Noon</td>\n      <td>552.50</td>\n      <td>137.25</td>\n      <td>Quiet</td>\n    </tr>\n    <tr>\n      <th>...</th>\n      <td>...</td>\n      <td>...</td>\n      <td>...</td>\n      <td>...</td>\n      <td>...</td>\n      <td>...</td>\n    </tr>\n    <tr>\n      <th>58</th>\n      <td>2022-08-01</td>\n      <td>SMR 5</td>\n      <td>Noon</td>\n      <td>680.50</td>\n      <td>155.45</td>\n      <td>Quiet</td>\n    </tr>\n    <tr>\n      <th>59</th>\n      <td>2022-08-01</td>\n      <td>SMR GP</td>\n      <td>Noon</td>\n      <td>677.50</td>\n      <td>154.80</td>\n      <td>Quiet</td>\n    </tr>\n    <tr>\n      <th>60</th>\n      <td>2022-08-01</td>\n      <td>SMR 10</td>\n      <td>Noon</td>\n      <td>670.50</td>\n      <td>153.20</td>\n      <td>Quiet</td>\n    </tr>\n    <tr>\n      <th>61</th>\n      <td>2022-08-01</td>\n      <td>SMR 20</td>\n      <td>Noon</td>\n      <td>668.50</td>\n      <td>152.75</td>\n      <td>Quiet</td>\n    </tr>\n    <tr>\n      <th>62</th>\n      <td>2022-08-01</td>\n      <td>Latex in Bulk</td>\n      <td>Noon</td>\n      <td>527.50</td>\n      <td>527.50</td>\n      <td>Quiet</td>\n    </tr>\n  </tbody>\n</table>\n<p>4431 rows × 6 columns</p>\n</div>"
     },
     "execution_count": 11,
     "metadata": {},
     "output_type": "execute_result"
    }
   ],
   "source": [
    "df"
   ],
   "metadata": {
    "collapsed": false,
    "pycharm": {
     "name": "#%%\n"
    }
   }
  },
  {
   "cell_type": "code",
   "execution_count": 12,
   "outputs": [
    {
     "name": "stderr",
     "output_type": "stream",
     "text": [
      "C:\\Users\\79216\\AppData\\Local\\Temp\\ipykernel_17948\\3021535099.py:3: SettingWithCopyWarning: \n",
      "A value is trying to be set on a copy of a slice from a DataFrame.\n",
      "Try using .loc[row_indexer,col_indexer] = value instead\n",
      "\n",
      "See the caveats in the documentation: https://pandas.pydata.org/pandas-docs/stable/user_guide/indexing.html#returning-a-view-versus-a-copy\n",
      "  df_smr20.date = pd.to_datetime(df_smr20.date)\n",
      "C:\\Users\\79216\\AppData\\Local\\Temp\\ipykernel_17948\\3021535099.py:4: SettingWithCopyWarning: \n",
      "A value is trying to be set on a copy of a slice from a DataFrame.\n",
      "Try using .loc[row_indexer,col_indexer] = value instead\n",
      "\n",
      "See the caveats in the documentation: https://pandas.pydata.org/pandas-docs/stable/user_guide/indexing.html#returning-a-view-versus-a-copy\n",
      "  df_smr20['us'] = df_smr20['us'].astype('float')\n"
     ]
    }
   ],
   "source": [
    "#выясняем среднюю цену за месяц\n",
    "df_smr20 = df[df['grade'] == 'SMR 20']\n",
    "df_smr20.date = pd.to_datetime(df_smr20.date)\n",
    "df_smr20['us'] = df_smr20['us'].astype('float')\n",
    "df_smr20.set_index('date', inplace = True)\n",
    "df_smr20 = df_smr20.us.copy()\n",
    "df_smr20 = df_smr20.resample('M').mean()"
   ],
   "metadata": {
    "collapsed": false,
    "pycharm": {
     "name": "#%%\n"
    }
   }
  },
  {
   "cell_type": "code",
   "execution_count": 14,
   "outputs": [
    {
     "data": {
      "text/plain": "date\n2020-01-31    146.960000\n2020-02-29    134.165000\n2020-03-31    122.436364\n2020-04-30    110.319048\n2020-05-31    110.046875\n2020-06-30    115.102381\n2020-07-31    118.638636\n2020-08-31    130.752632\n2020-09-30    136.850000\n2020-10-31    152.311905\n2020-11-30    156.500000\n2020-12-31    157.611905\n2021-01-31    158.397368\n2021-02-28    169.161765\n2021-03-31    175.245652\n2021-04-30    164.717500\n2021-05-31    169.091176\n2021-06-30    164.507143\n2021-07-31    164.321429\n2021-08-31    172.667500\n2021-09-30    163.226190\n2021-10-31    174.385000\n2021-11-30    175.645238\n2021-12-31    172.076190\n2022-01-31    178.118421\n2022-02-28    179.841667\n2022-03-31    175.178261\n2022-04-30    171.152632\n2022-05-31    162.808333\n2022-06-30    164.145238\n2022-07-31    158.832500\n2022-08-31    153.088889\nFreq: M, Name: us, dtype: float64"
     },
     "execution_count": 14,
     "metadata": {},
     "output_type": "execute_result"
    }
   ],
   "source": [
    "df_smr20"
   ],
   "metadata": {
    "collapsed": false,
    "pycharm": {
     "name": "#%%\n"
    }
   }
  },
  {
   "cell_type": "code",
   "execution_count": 17,
   "outputs": [
    {
     "name": "stdout",
     "output_type": "stream",
     "text": [
      "[*********************100%***********************]  1 of 1 completed\n",
      "[*********************100%***********************]  1 of 1 completed\n"
     ]
    }
   ],
   "source": [
    "#подтягиваем курсы валют для конвертации\n",
    "df_dict = {}\n",
    "df_dict['SMR_20_PRICE'] = df_smr20\n",
    "for ticker in ['EURUSD=X', 'USDEUR=X']:\n",
    "    df = yf.download(ticker)\n",
    "    df = df.Close.copy()\n",
    "    df = df.resample('M').mean()\n",
    "    df_dict[ticker] = df"
   ],
   "metadata": {
    "collapsed": false,
    "pycharm": {
     "name": "#%%\n"
    }
   }
  },
  {
   "cell_type": "code",
   "execution_count": 18,
   "outputs": [
    {
     "data": {
      "text/plain": "{'SMR_20_PRICE': date\n 2020-01-31    146.960000\n 2020-02-29    134.165000\n 2020-03-31    122.436364\n 2020-04-30    110.319048\n 2020-05-31    110.046875\n 2020-06-30    115.102381\n 2020-07-31    118.638636\n 2020-08-31    130.752632\n 2020-09-30    136.850000\n 2020-10-31    152.311905\n 2020-11-30    156.500000\n 2020-12-31    157.611905\n 2021-01-31    158.397368\n 2021-02-28    169.161765\n 2021-03-31    175.245652\n 2021-04-30    164.717500\n 2021-05-31    169.091176\n 2021-06-30    164.507143\n 2021-07-31    164.321429\n 2021-08-31    172.667500\n 2021-09-30    163.226190\n 2021-10-31    174.385000\n 2021-11-30    175.645238\n 2021-12-31    172.076190\n 2022-01-31    178.118421\n 2022-02-28    179.841667\n 2022-03-31    175.178261\n 2022-04-30    171.152632\n 2022-05-31    162.808333\n 2022-06-30    164.145238\n 2022-07-31    158.832500\n 2022-08-31    153.088889\n Freq: M, Name: us, dtype: float64,\n 'EURUSD=X': Date\n 2003-12-31    1.231372\n 2004-01-31    1.260813\n 2004-02-29    1.264357\n 2004-03-31    1.226723\n 2004-04-30    1.199692\n                 ...   \n 2022-04-30    1.082745\n 2022-05-31    1.057322\n 2022-06-30    1.057670\n 2022-07-31    1.019509\n 2022-08-31    1.021580\n Freq: M, Name: Close, Length: 225, dtype: float64,\n 'USDEUR=X': Date\n 2003-12-31    0.812235\n 2004-01-31    0.793228\n 2004-02-29    0.790998\n 2004-03-31    0.815226\n 2004-04-30    0.833640\n                 ...   \n 2022-04-30    0.923724\n 2022-05-31    0.945884\n 2022-06-30    0.945565\n 2022-07-31    0.981008\n 2022-08-31    0.978903\n Freq: M, Name: Close, Length: 225, dtype: float64}"
     },
     "execution_count": 18,
     "metadata": {},
     "output_type": "execute_result"
    }
   ],
   "source": [
    "df_dict"
   ],
   "metadata": {
    "collapsed": false,
    "pycharm": {
     "name": "#%%\n"
    }
   }
  },
  {
   "cell_type": "code",
   "execution_count": 19,
   "outputs": [],
   "source": [
    "#создаем основной df и выбираем период с 1 января 20 по 30 июня 22\n",
    "main_df = pd.concat(df_dict.values(), axis=1)\n",
    "main_df.columns = ['SMR_20_PRICE','EURUSD=X', 'USDEUR=X']\n",
    "main_df = main_df.loc['2020-01-01':'2022-06-30'].copy()"
   ],
   "metadata": {
    "collapsed": false,
    "pycharm": {
     "name": "#%%\n"
    }
   }
  },
  {
   "cell_type": "code",
   "execution_count": 20,
   "outputs": [],
   "source": [
    "#цена на заводе в долларах\n",
    "main_df['SMR_20_PRICE_USD'] = main_df['SMR_20_PRICE'] + PRODUCTION_COST * main_df['EURUSD=X']\n",
    "#цена на заводе в евро\n",
    "main_df['SMR_20_PRICE_EUR'] = main_df['SMR_20_PRICE'] * main_df['USDEUR=X'] + PRODUCTION_COST\n",
    "#средняя цена при доставке в еврозону\n",
    "main_df['SMR_20_PRICE_EUR_EU'] = main_df['SMR_20_PRICE_EUR'] + EU_LOGISTIC_COST_EUR\n",
    "#средняя цена при доставке в Китай\n",
    "main_df['SMR_20_PRICE_USD_CN'] = main_df['SMR_20_PRICE_USD'] + CN_LOGISTIC_COST_USD\n",
    "#плавающая средняя цена при доставке в еврозону\n",
    "main_df['SMR_20_PRICE_EUR_EU_MA'] = main_df.SMR_20_PRICE_EUR_EU.rolling(window=3).mean()\n",
    "#плавающая средняя цена при доставке в китай\n",
    "main_df['SMR_20_PRICE_USD_CN_MA'] = main_df.SMR_20_PRICE_USD_CN.rolling(window=3).mean()"
   ],
   "metadata": {
    "collapsed": false,
    "pycharm": {
     "name": "#%%\n"
    }
   }
  },
  {
   "cell_type": "code",
   "execution_count": 21,
   "outputs": [
    {
     "data": {
      "text/plain": "            SMR_20_PRICE  EURUSD=X  USDEUR=X  SMR_20_PRICE_USD  \\\n2020-01-31    146.960000  1.111180  0.899972        591.432110   \n2020-02-29    134.165000  1.091091  0.916576        570.601269   \n2020-03-31    122.436364  1.107309  0.903398        565.359812   \n2020-04-30    110.319048  1.087575  0.919506        545.349051   \n2020-05-31    110.046875  1.089994  0.917481        546.044420   \n2020-06-30    115.102381  1.125652  0.888404        565.363317   \n2020-07-31    118.638636  1.145476  0.873241        576.828839   \n2020-08-31    130.752632  1.182762  0.845496        603.857438   \n2020-09-30    136.850000  1.179660  0.847742        608.714143   \n2020-10-31    152.311905  1.176977  0.849648        623.102664   \n2020-11-30    156.500000  1.182952  0.845383        629.680621   \n2020-12-31    157.611905  1.216249  0.822231        644.111687   \n2021-01-31    158.397368  1.217785  0.821189        645.511532   \n2021-02-28    169.161765  1.209898  0.826531        653.120915   \n2021-03-31    175.245652  1.191474  0.839354        651.835280   \n2021-04-30    164.717500  1.195960  0.836227        643.101379   \n2021-05-31    169.091176  1.214025  0.823735        654.701096   \n2021-06-30    164.507143  1.205959  0.829306        646.890689   \n2021-07-31    164.321429  1.182493  0.845679        637.318435   \n2021-08-31    172.667500  1.177090  0.849572        643.503615   \n2021-09-30    163.226190  1.177784  0.849084        634.339725   \n2021-10-31    174.385000  1.160063  0.862030        638.410241   \n2021-11-30    175.645238  1.141729  0.876003        632.336898   \n2021-12-31    172.076190  1.130719  0.884398        624.363808   \n2022-01-31    178.118421  1.132574  0.882985        631.147924   \n2022-02-28    179.841667  1.133995  0.881881        633.439863   \n2022-03-31    175.178261  1.102412  0.907158        616.143260   \n2022-04-30    171.152632  1.082745  0.923724        604.250432   \n2022-05-31    162.808333  1.057322  0.945884        585.737293   \n2022-06-30    164.145238  1.057670  0.945565        587.213057   \n\n            SMR_20_PRICE_EUR  SMR_20_PRICE_EUR_EU  SMR_20_PRICE_USD_CN  \\\n2020-01-31        532.259821           562.259821           721.432110   \n2020-02-29        522.972372           552.972372           700.601269   \n2020-03-31        510.608815           540.608815           695.359812   \n2020-04-30        501.439027           531.439027           675.349051   \n2020-05-31        500.965932           530.965932           676.044420   \n2020-06-30        502.257379           532.257379           695.363317   \n2020-07-31        503.600101           533.600101           706.828839   \n2020-08-31        510.550839           540.550839           733.857438   \n2020-09-30        516.013480           546.013480           738.714143   \n2020-10-31        529.411490           559.411490           753.102664   \n2020-11-30        532.302439           562.302439           759.680621   \n2020-12-31        529.593455           559.593455           774.111687   \n2021-01-31        530.074222           560.074222           775.511532   \n2021-02-28        539.817494           569.817494           783.120915   \n2021-03-31        547.093193           577.093193           781.835280   \n2021-04-30        537.741258           567.741258           773.101379   \n2021-05-31        539.286400           569.286400           784.701096   \n2021-06-30        536.426827           566.426827           776.890689   \n2021-07-31        538.963121           568.963121           767.318435   \n2021-08-31        546.693474           576.693474           773.503615   \n2021-09-30        538.592814           568.592814           764.339725   \n2021-10-31        550.325101           580.325101           768.410241   \n2021-11-30        553.865708           583.865708           762.336898   \n2021-12-31        552.183884           582.183884           754.363808   \n2022-01-31        557.275936           587.275936           761.147924   \n2022-02-28        558.598859           588.598859           763.439863   \n2022-03-31        558.914406           588.914406           746.143260   \n2022-04-30        558.097762           588.097762           734.250432   \n2022-05-31        553.997738           583.997738           715.737293   \n2022-06-30        555.210067           585.210067           717.213057   \n\n            SMR_20_PRICE_EUR_EU_MA  SMR_20_PRICE_USD_CN_MA  \n2020-01-31                     NaN                     NaN  \n2020-02-29                     NaN                     NaN  \n2020-03-31              551.947003              705.797730  \n2020-04-30              541.673405              690.436711  \n2020-05-31              534.337925              682.251094  \n2020-06-30              531.554113              682.252263  \n2020-07-31              532.274471              692.745525  \n2020-08-31              535.469440              712.016531  \n2020-09-30              540.054807              726.466807  \n2020-10-31              548.658603              741.891415  \n2020-11-30              555.909136              750.499143  \n2020-12-31              560.435795              762.298324  \n2021-01-31              560.656705              769.767947  \n2021-02-28              563.161723              777.581378  \n2021-03-31              568.994969              780.155909  \n2021-04-30              571.550648              779.352525  \n2021-05-31              571.373617              779.879252  \n2021-06-30              567.818162              778.231055  \n2021-07-31              568.225449              776.303407  \n2021-08-31              570.694474              772.570913  \n2021-09-30              571.416469              768.387258  \n2021-10-31              575.203796              768.751194  \n2021-11-30              577.594541              765.028954  \n2021-12-31              582.124898              761.703649  \n2022-01-31              584.441843              759.282877  \n2022-02-28              586.019560              759.650532  \n2022-03-31              588.263067              756.910349  \n2022-04-30              588.537009              747.944519  \n2022-05-31              587.003302              732.043662  \n2022-06-30              585.768522              722.400261  ",
      "text/html": "<div>\n<style scoped>\n    .dataframe tbody tr th:only-of-type {\n        vertical-align: middle;\n    }\n\n    .dataframe tbody tr th {\n        vertical-align: top;\n    }\n\n    .dataframe thead th {\n        text-align: right;\n    }\n</style>\n<table border=\"1\" class=\"dataframe\">\n  <thead>\n    <tr style=\"text-align: right;\">\n      <th></th>\n      <th>SMR_20_PRICE</th>\n      <th>EURUSD=X</th>\n      <th>USDEUR=X</th>\n      <th>SMR_20_PRICE_USD</th>\n      <th>SMR_20_PRICE_EUR</th>\n      <th>SMR_20_PRICE_EUR_EU</th>\n      <th>SMR_20_PRICE_USD_CN</th>\n      <th>SMR_20_PRICE_EUR_EU_MA</th>\n      <th>SMR_20_PRICE_USD_CN_MA</th>\n    </tr>\n  </thead>\n  <tbody>\n    <tr>\n      <th>2020-01-31</th>\n      <td>146.960000</td>\n      <td>1.111180</td>\n      <td>0.899972</td>\n      <td>591.432110</td>\n      <td>532.259821</td>\n      <td>562.259821</td>\n      <td>721.432110</td>\n      <td>NaN</td>\n      <td>NaN</td>\n    </tr>\n    <tr>\n      <th>2020-02-29</th>\n      <td>134.165000</td>\n      <td>1.091091</td>\n      <td>0.916576</td>\n      <td>570.601269</td>\n      <td>522.972372</td>\n      <td>552.972372</td>\n      <td>700.601269</td>\n      <td>NaN</td>\n      <td>NaN</td>\n    </tr>\n    <tr>\n      <th>2020-03-31</th>\n      <td>122.436364</td>\n      <td>1.107309</td>\n      <td>0.903398</td>\n      <td>565.359812</td>\n      <td>510.608815</td>\n      <td>540.608815</td>\n      <td>695.359812</td>\n      <td>551.947003</td>\n      <td>705.797730</td>\n    </tr>\n    <tr>\n      <th>2020-04-30</th>\n      <td>110.319048</td>\n      <td>1.087575</td>\n      <td>0.919506</td>\n      <td>545.349051</td>\n      <td>501.439027</td>\n      <td>531.439027</td>\n      <td>675.349051</td>\n      <td>541.673405</td>\n      <td>690.436711</td>\n    </tr>\n    <tr>\n      <th>2020-05-31</th>\n      <td>110.046875</td>\n      <td>1.089994</td>\n      <td>0.917481</td>\n      <td>546.044420</td>\n      <td>500.965932</td>\n      <td>530.965932</td>\n      <td>676.044420</td>\n      <td>534.337925</td>\n      <td>682.251094</td>\n    </tr>\n    <tr>\n      <th>2020-06-30</th>\n      <td>115.102381</td>\n      <td>1.125652</td>\n      <td>0.888404</td>\n      <td>565.363317</td>\n      <td>502.257379</td>\n      <td>532.257379</td>\n      <td>695.363317</td>\n      <td>531.554113</td>\n      <td>682.252263</td>\n    </tr>\n    <tr>\n      <th>2020-07-31</th>\n      <td>118.638636</td>\n      <td>1.145476</td>\n      <td>0.873241</td>\n      <td>576.828839</td>\n      <td>503.600101</td>\n      <td>533.600101</td>\n      <td>706.828839</td>\n      <td>532.274471</td>\n      <td>692.745525</td>\n    </tr>\n    <tr>\n      <th>2020-08-31</th>\n      <td>130.752632</td>\n      <td>1.182762</td>\n      <td>0.845496</td>\n      <td>603.857438</td>\n      <td>510.550839</td>\n      <td>540.550839</td>\n      <td>733.857438</td>\n      <td>535.469440</td>\n      <td>712.016531</td>\n    </tr>\n    <tr>\n      <th>2020-09-30</th>\n      <td>136.850000</td>\n      <td>1.179660</td>\n      <td>0.847742</td>\n      <td>608.714143</td>\n      <td>516.013480</td>\n      <td>546.013480</td>\n      <td>738.714143</td>\n      <td>540.054807</td>\n      <td>726.466807</td>\n    </tr>\n    <tr>\n      <th>2020-10-31</th>\n      <td>152.311905</td>\n      <td>1.176977</td>\n      <td>0.849648</td>\n      <td>623.102664</td>\n      <td>529.411490</td>\n      <td>559.411490</td>\n      <td>753.102664</td>\n      <td>548.658603</td>\n      <td>741.891415</td>\n    </tr>\n    <tr>\n      <th>2020-11-30</th>\n      <td>156.500000</td>\n      <td>1.182952</td>\n      <td>0.845383</td>\n      <td>629.680621</td>\n      <td>532.302439</td>\n      <td>562.302439</td>\n      <td>759.680621</td>\n      <td>555.909136</td>\n      <td>750.499143</td>\n    </tr>\n    <tr>\n      <th>2020-12-31</th>\n      <td>157.611905</td>\n      <td>1.216249</td>\n      <td>0.822231</td>\n      <td>644.111687</td>\n      <td>529.593455</td>\n      <td>559.593455</td>\n      <td>774.111687</td>\n      <td>560.435795</td>\n      <td>762.298324</td>\n    </tr>\n    <tr>\n      <th>2021-01-31</th>\n      <td>158.397368</td>\n      <td>1.217785</td>\n      <td>0.821189</td>\n      <td>645.511532</td>\n      <td>530.074222</td>\n      <td>560.074222</td>\n      <td>775.511532</td>\n      <td>560.656705</td>\n      <td>769.767947</td>\n    </tr>\n    <tr>\n      <th>2021-02-28</th>\n      <td>169.161765</td>\n      <td>1.209898</td>\n      <td>0.826531</td>\n      <td>653.120915</td>\n      <td>539.817494</td>\n      <td>569.817494</td>\n      <td>783.120915</td>\n      <td>563.161723</td>\n      <td>777.581378</td>\n    </tr>\n    <tr>\n      <th>2021-03-31</th>\n      <td>175.245652</td>\n      <td>1.191474</td>\n      <td>0.839354</td>\n      <td>651.835280</td>\n      <td>547.093193</td>\n      <td>577.093193</td>\n      <td>781.835280</td>\n      <td>568.994969</td>\n      <td>780.155909</td>\n    </tr>\n    <tr>\n      <th>2021-04-30</th>\n      <td>164.717500</td>\n      <td>1.195960</td>\n      <td>0.836227</td>\n      <td>643.101379</td>\n      <td>537.741258</td>\n      <td>567.741258</td>\n      <td>773.101379</td>\n      <td>571.550648</td>\n      <td>779.352525</td>\n    </tr>\n    <tr>\n      <th>2021-05-31</th>\n      <td>169.091176</td>\n      <td>1.214025</td>\n      <td>0.823735</td>\n      <td>654.701096</td>\n      <td>539.286400</td>\n      <td>569.286400</td>\n      <td>784.701096</td>\n      <td>571.373617</td>\n      <td>779.879252</td>\n    </tr>\n    <tr>\n      <th>2021-06-30</th>\n      <td>164.507143</td>\n      <td>1.205959</td>\n      <td>0.829306</td>\n      <td>646.890689</td>\n      <td>536.426827</td>\n      <td>566.426827</td>\n      <td>776.890689</td>\n      <td>567.818162</td>\n      <td>778.231055</td>\n    </tr>\n    <tr>\n      <th>2021-07-31</th>\n      <td>164.321429</td>\n      <td>1.182493</td>\n      <td>0.845679</td>\n      <td>637.318435</td>\n      <td>538.963121</td>\n      <td>568.963121</td>\n      <td>767.318435</td>\n      <td>568.225449</td>\n      <td>776.303407</td>\n    </tr>\n    <tr>\n      <th>2021-08-31</th>\n      <td>172.667500</td>\n      <td>1.177090</td>\n      <td>0.849572</td>\n      <td>643.503615</td>\n      <td>546.693474</td>\n      <td>576.693474</td>\n      <td>773.503615</td>\n      <td>570.694474</td>\n      <td>772.570913</td>\n    </tr>\n    <tr>\n      <th>2021-09-30</th>\n      <td>163.226190</td>\n      <td>1.177784</td>\n      <td>0.849084</td>\n      <td>634.339725</td>\n      <td>538.592814</td>\n      <td>568.592814</td>\n      <td>764.339725</td>\n      <td>571.416469</td>\n      <td>768.387258</td>\n    </tr>\n    <tr>\n      <th>2021-10-31</th>\n      <td>174.385000</td>\n      <td>1.160063</td>\n      <td>0.862030</td>\n      <td>638.410241</td>\n      <td>550.325101</td>\n      <td>580.325101</td>\n      <td>768.410241</td>\n      <td>575.203796</td>\n      <td>768.751194</td>\n    </tr>\n    <tr>\n      <th>2021-11-30</th>\n      <td>175.645238</td>\n      <td>1.141729</td>\n      <td>0.876003</td>\n      <td>632.336898</td>\n      <td>553.865708</td>\n      <td>583.865708</td>\n      <td>762.336898</td>\n      <td>577.594541</td>\n      <td>765.028954</td>\n    </tr>\n    <tr>\n      <th>2021-12-31</th>\n      <td>172.076190</td>\n      <td>1.130719</td>\n      <td>0.884398</td>\n      <td>624.363808</td>\n      <td>552.183884</td>\n      <td>582.183884</td>\n      <td>754.363808</td>\n      <td>582.124898</td>\n      <td>761.703649</td>\n    </tr>\n    <tr>\n      <th>2022-01-31</th>\n      <td>178.118421</td>\n      <td>1.132574</td>\n      <td>0.882985</td>\n      <td>631.147924</td>\n      <td>557.275936</td>\n      <td>587.275936</td>\n      <td>761.147924</td>\n      <td>584.441843</td>\n      <td>759.282877</td>\n    </tr>\n    <tr>\n      <th>2022-02-28</th>\n      <td>179.841667</td>\n      <td>1.133995</td>\n      <td>0.881881</td>\n      <td>633.439863</td>\n      <td>558.598859</td>\n      <td>588.598859</td>\n      <td>763.439863</td>\n      <td>586.019560</td>\n      <td>759.650532</td>\n    </tr>\n    <tr>\n      <th>2022-03-31</th>\n      <td>175.178261</td>\n      <td>1.102412</td>\n      <td>0.907158</td>\n      <td>616.143260</td>\n      <td>558.914406</td>\n      <td>588.914406</td>\n      <td>746.143260</td>\n      <td>588.263067</td>\n      <td>756.910349</td>\n    </tr>\n    <tr>\n      <th>2022-04-30</th>\n      <td>171.152632</td>\n      <td>1.082745</td>\n      <td>0.923724</td>\n      <td>604.250432</td>\n      <td>558.097762</td>\n      <td>588.097762</td>\n      <td>734.250432</td>\n      <td>588.537009</td>\n      <td>747.944519</td>\n    </tr>\n    <tr>\n      <th>2022-05-31</th>\n      <td>162.808333</td>\n      <td>1.057322</td>\n      <td>0.945884</td>\n      <td>585.737293</td>\n      <td>553.997738</td>\n      <td>583.997738</td>\n      <td>715.737293</td>\n      <td>587.003302</td>\n      <td>732.043662</td>\n    </tr>\n    <tr>\n      <th>2022-06-30</th>\n      <td>164.145238</td>\n      <td>1.057670</td>\n      <td>0.945565</td>\n      <td>587.213057</td>\n      <td>555.210067</td>\n      <td>585.210067</td>\n      <td>717.213057</td>\n      <td>585.768522</td>\n      <td>722.400261</td>\n    </tr>\n  </tbody>\n</table>\n</div>"
     },
     "execution_count": 21,
     "metadata": {},
     "output_type": "execute_result"
    }
   ],
   "source": [
    "main_df"
   ],
   "metadata": {
    "collapsed": false,
    "pycharm": {
     "name": "#%%\n"
    }
   }
  },
  {
   "cell_type": "code",
   "execution_count": 22,
   "outputs": [],
   "source": [
    "from pylab import rcParams\n",
    "rcParams['figure.figsize'] = 15,7"
   ],
   "metadata": {
    "collapsed": false,
    "pycharm": {
     "name": "#%%\n"
    }
   }
  },
  {
   "cell_type": "code",
   "execution_count": 29,
   "outputs": [
    {
     "data": {
      "text/plain": "<Figure size 432x288 with 1 Axes>",
      "image/png": "[encoded data removed]"
     },
     "metadata": {
      "needs_background": "light"
     },
     "output_type": "display_data"
    }
   ],
   "source": [
    "plt.title('Цена на заводе', fontsize=16, fontweight='bold')\n",
    "plt.plot(main_df['SMR_20_PRICE_USD'], label='Цена на заводе в USD')\n",
    "plt.plot(main_df['SMR_20_PRICE_EUR'], label='Цена на заводе в EUR')\n",
    "plt.legend()\n",
    "plt.show()"
   ],
   "metadata": {
    "collapsed": false,
    "pycharm": {
     "name": "#%%\n"
    }
   }
  },
  {
   "cell_type": "code",
   "execution_count": 30,
   "outputs": [
    {
     "data": {
      "text/plain": "{'Monty': {'location': 'EU', 'volumes': 200, 'formula': 'moving_average'},\n 'Triangle': {'location': 'CN', 'volumes': 30, 'formula': 'monthly'},\n 'Stone': {'location': 'EU', 'volumes': 150, 'formula': 'moving_average'},\n 'Poly': {'location': 'EU', 'volumes': 70, 'formula': 'monthly'}}"
     },
     "execution_count": 30,
     "metadata": {},
     "output_type": "execute_result"
    }
   ],
   "source": [
    "customers"
   ],
   "metadata": {
    "collapsed": false,
    "pycharm": {
     "name": "#%%\n"
    }
   }
  },
  {
   "cell_type": "code",
   "execution_count": 31,
   "outputs": [],
   "source": [
    "discounts = {100: 0.01, 300: 0.05, 301: 0.1}"
   ],
   "metadata": {
    "collapsed": false,
    "pycharm": {
     "name": "#%%\n"
    }
   }
  },
  {
   "cell_type": "code",
   "execution_count": 32,
   "outputs": [
    {
     "data": {
      "text/plain": "<Figure size 432x288 with 1 Axes>",
      "image/png": "[encoded data removed]"
     },
     "metadata": {
      "needs_background": "light"
     },
     "output_type": "display_data"
    },
    {
     "data": {
      "text/plain": "<Figure size 432x288 with 1 Axes>",
      "image/png": "[encoded data removed]"
     },
     "metadata": {
      "needs_background": "light"
     },
     "output_type": "display_data"
    },
    {
     "data": {
      "text/plain": "<Figure size 432x288 with 1 Axes>",
      "image/png": "[encoded data removed]"
     },
     "metadata": {
      "needs_background": "light"
     },
     "output_type": "display_data"
    },
    {
     "data": {
      "text/plain": "<Figure size 432x288 with 1 Axes>",
      "image/png": "[encoded data removed]"
     },
     "metadata": {
      "needs_background": "light"
     },
     "output_type": "display_data"
    }
   ],
   "source": [
    "with pd.ExcelWriter('price_proposals.xlsx', engine = 'xlsxwriter') as writer:\n",
    "    for client, v in customers.items():\n",
    "\n",
    "        disc = 0.0\n",
    "        if v.get('location') == \"EU\":\n",
    "            fl = 0\n",
    "            for k_lim, discount_share in discounts.items():\n",
    "                if v.get('volumes') > k_lim:\n",
    "                    continue\n",
    "                else:\n",
    "                    disc = discount_share\n",
    "                    fl = 1\n",
    "                    break\n",
    "            if fl == 0 :\n",
    "                disc = discounts.get(max(discounts.keys()))\n",
    "\n",
    "            if v.get('formula') == 'monthly':\n",
    "                client_price = main_df['SMR_20_PRICE_EUR_EU'] * (1-disc)\n",
    "            elif v.get('formula') == 'moving_average':\n",
    "                client_price = main_df['SMR_20_PRICE_EUR_EU_MA'] * (1-disc)\n",
    "\n",
    "        elif v.get('location') == 'CN':\n",
    "            fl = 0\n",
    "            for k_lim, discount_share in discounts.items():\n",
    "                if v.get('volumes') > k_lim:\n",
    "                    continue\n",
    "                else:\n",
    "                    disc = discount_share\n",
    "                    fl = 1\n",
    "                    break\n",
    "            if fl == 0 :\n",
    "                disc = discounts.get(max(discounts.keys()))\n",
    "\n",
    "            if v.get('formula') == 'monthly':\n",
    "                client_price = main_df['SMR_20_PRICE_USD_CN'] * (1-disc)\n",
    "            elif v.get('formula') == 'moving_average':\n",
    "                client_price = main_df['SMR_20_PRICE_USD_CN_MA'] * (1-disc)\n",
    "\n",
    "\n",
    "        # print(client, v, disc)\n",
    "        client_price.to_excel(writer, sheet_name=client)\n",
    "        # Добавляем график с ценой\n",
    "        plot_path = f'{client}_wbp.png'\n",
    "        plt.title('Цена SMR_20', fontsize=16, fontweight='bold')\n",
    "        plt.plot(client_price)\n",
    "        plt.savefig(plot_path)\n",
    "        plt.show()\n",
    "        # worksheet = writer.sheets[client]\n",
    "        # worksheet.insert_image('C2',plot_path)\n",
    "\n",
    "    for k,v in customers.items():\n",
    "        worksheet = writer.sheets[k]\n",
    "        worksheet.insert_image('C2',f\"{k}_wbp.png\")\n",
    "\n",
    "for k,v in customers.items():\n",
    "    if os.path.exists(f\"{k}_wbp.png\"):\n",
    "        os.remove(f\"{k}_wbp.png\")"
   ],
   "metadata": {
    "collapsed": false,
    "pycharm": {
     "name": "#%%\n"
    }
   }
  },
  {
   "cell_type": "code",
   "execution_count": null,
   "outputs": [],
   "source": [],
   "metadata": {
    "collapsed": false,
    "pycharm": {
     "name": "#%%\n"
    }
   }
  },
  {
   "cell_type": "code",
   "execution_count": null,
   "outputs": [],
   "source": [],
   "metadata": {
    "collapsed": false,
    "pycharm": {
     "name": "#%%\n"
    }
   }
  },
  {
   "cell_type": "markdown",
   "metadata": {
    "pycharm": {
     "name": "#%% md\n"
    }
   },
   "source": [
    "# Задание 2. Продолжение"
   ]
  },
  {
   "cell_type": "markdown",
   "metadata": {
    "pycharm": {
     "name": "#%% md\n"
    }
   },
   "source": [
    "Клиенты согласились на ваше предложение.\n",
    "### Что нужно сделать?\n",
    "Вам нужно написать скрипт, с помощью которого можно автоматом рассчитывать цены для всех клиентов одновременно.\n",
    "\n",
    "\n",
    "\n",
    "* В результате должен быть скрипт, который делает расчет цены для клиента (чтобы данные подтягивались туда сами)"
   ]
  },
  {
   "cell_type": "code",
   "execution_count": null,
   "outputs": [],
   "source": [],
   "metadata": {
    "collapsed": false,
    "pycharm": {
     "name": "#%%\n"
    }
   }
  },
  {
   "cell_type": "markdown",
   "metadata": {
    "pycharm": {
     "name": "#%% md\n"
    }
   },
   "source": [
    "# Задание 3. Поделись с ближним"
   ]
  },
  {
   "cell_type": "markdown",
   "metadata": {
    "pycharm": {
     "name": "#%% md\n"
    }
   },
   "source": [
    "Вы решили пойти в отпуск на время вашего отсутствия вас будет заменять коллега. Он будет заниматься рассчетом цен для клиентов. Чтобы ему было проще вам нужно завернуть ваши скрипты в модуль, который будет запускать у себя коллега."
   ]
  },
  {
   "cell_type": "markdown",
   "metadata": {
    "pycharm": {
     "name": "#%% md\n"
    }
   },
   "source": [
    "### Что нужно сделать?\n",
    "* Создайте модуль, который можно запускать в ноутбуке подкладывая в ту же директорию\n",
    "* Хорошенько задокументируйте ВСЁ\n",
    "* Помните о PEP8"
   ]
  },
  {
   "cell_type": "code",
   "execution_count": 3,
   "metadata": {
    "pycharm": {
     "name": "#%%\n"
    }
   },
   "outputs": [],
   "source": [
    "# import yourpackage"
   ]
  },
  {
   "cell_type": "markdown",
   "metadata": {
    "pycharm": {
     "name": "#%% md\n"
    }
   },
   "source": [
    "# Задание 4. Поделись пакетом"
   ]
  },
  {
   "cell_type": "markdown",
   "metadata": {
    "pycharm": {
     "name": "#%% md\n"
    }
   },
   "source": [
    "Ваши коллеги узнали, что вы быстро рассчитываете цены для формульных контрактов, и решили использовать такую же практику для своих продуктов и клиентов. Вам нужно создать пакет, чтобы его было проще устанавливать и использовать."
   ]
  },
  {
   "cell_type": "markdown",
   "metadata": {
    "pycharm": {
     "name": "#%% md\n"
    }
   },
   "source": [
    "### Что нужно сделать?\n",
    "* Создайте отдельный пакет, который можно устанавливать с помощью pip\n",
    "* В пакете должны быть реализованы функции для рассчета цен по формульным контрактам\n",
    "* Выложите пакет в свой репозиторий"
   ]
  },
  {
   "cell_type": "code",
   "execution_count": null,
   "metadata": {
    "pycharm": {
     "name": "#%%\n"
    }
   },
   "outputs": [],
   "source": [
    "# !pip install yourpackage\n",
    "# import yourpackage"
   ]
  }
 ],
 "metadata": {
  "kernelspec": {
   "display_name": "Python 3",
   "language": "python",
   "name": "python3"
  },
  "language_info": {
   "codemirror_mode": {
    "name": "ipython",
    "version": 3
   },
   "file_extension": ".py",
   "mimetype": "text/x-python",
   "name": "python",
   "nbconvert_exporter": "python",
   "pygments_lexer": "ipython3",
   "version": "3.8.5"
  }
 },
 "nbformat": 4,
 "nbformat_minor": 2
}