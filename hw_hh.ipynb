{
 "cells": [
  {
   "cell_type": "markdown",
   "id": "df3fda15",
   "metadata": {
    "toc": true,
    "pycharm": {
     "name": "#%% md\n"
    }
   },
   "source": [
    "# Задание\n",
    "# Скачать все вакансии СБЕРа с ХХ (у апи есть ограничение в 2000, а также captcha подумайте как их можно обойти)\n",
    "# Извлеките все описания этих вакансий\n",
    "# Создайте DataFrame добавьте поле skills\n",
    "# Переведите даты публикаций в datetime\n",
    "# Постройте график опубликованных вакансий по датам\n",
    "# Переведите даты в дни недели, и определите день недели, в который больше всего публикуют вакансий\n",
    "# Найдите те вакансии с использованием python, которые вам интересны\n",
    "# Определите по полю skills какие навыки больше всего востребованы для этих вакансий\n",
    "# Постройте график наиболее востребованных навыков для аналитика данных"
   ]
  },
  {
   "cell_type": "code",
   "execution_count": 1,
   "id": "ef70af6c",
   "metadata": {
    "pycharm": {
     "name": "#%%\n"
    }
   },
   "outputs": [],
   "source": [
    "import requests\n",
    "import json\n",
    "from tqdm.auto import tqdm\n",
    "import pandas as pd\n",
    "from collections import defaultdict, Counter\n",
    "import pickle\n",
    "import time\n",
    "from bs4 import BeautifulSoup\n",
    "import numpy as np"
   ]
  },
  {
   "cell_type": "code",
   "execution_count": 2,
   "id": "2a5238de",
   "metadata": {
    "pycharm": {
     "name": "#%%\n"
    }
   },
   "outputs": [],
   "source": [
    "sber = '3529'\n",
    "page = 1\n",
    "num_per_page = 100\n",
    "moscow = 1\n",
    "url = f'https://api.hh.ru/vacancies?employer_id={sber}&page={page}&per_page={num_per_page}&area={moscow}'"
   ]
  },
  {
   "cell_type": "code",
   "execution_count": 3,
   "id": "5267b060",
   "metadata": {
    "pycharm": {
     "name": "#%%\n"
    }
   },
   "outputs": [],
   "source": [
    "res = requests.get(url)"
   ]
  },
  {
   "cell_type": "code",
   "execution_count": 4,
   "outputs": [
    {
     "data": {
      "text/plain": "'UTF-8'"
     },
     "execution_count": 4,
     "metadata": {},
     "output_type": "execute_result"
    }
   ],
   "source": [
    "res.encoding"
   ],
   "metadata": {
    "collapsed": false,
    "pycharm": {
     "name": "#%%\n"
    }
   }
  },
  {
   "cell_type": "code",
   "execution_count": 5,
   "outputs": [
    {
     "data": {
      "text/plain": "200"
     },
     "execution_count": 5,
     "metadata": {},
     "output_type": "execute_result"
    }
   ],
   "source": [
    "res.status_code"
   ],
   "metadata": {
    "collapsed": false,
    "pycharm": {
     "name": "#%%\n"
    }
   }
  },
  {
   "cell_type": "code",
   "execution_count": 6,
   "outputs": [],
   "source": [
    "req = requests.get('https://api.hh.ru/areas').json()\n",
    "area_id = [element['id'] for element in req[0]['areas']]"
   ],
   "metadata": {
    "collapsed": false,
    "pycharm": {
     "name": "#%%\n"
    }
   }
  },
  {
   "cell_type": "code",
   "execution_count": 7,
   "id": "75fbed11",
   "metadata": {
    "pycharm": {
     "name": "#%%\n"
    }
   },
   "outputs": [
    {
     "data": {
      "text/plain": "  0%|          | 0/20 [00:00<?, ?it/s]",
      "application/vnd.jupyter.widget-view+json": {
       "version_major": 2,
       "version_minor": 0,
       "model_id": "42b3fe7e36cc411d8753f38552050a65"
      }
     },
     "metadata": {},
     "output_type": "display_data"
    }
   ],
   "source": [
    "id_vacancies = []\n",
    "for i in tqdm(range(0, 20)):\n",
    "    for j in area_id:\n",
    "        vacancies = requests.get( f'https://api.hh.ru/vacancies?employer_id={sber}&page={i}&per_page={num_per_page}&area={j}').json()\n",
    "        vacancy_ids = [el.get('id') for el in vacancies.get('items')]\n",
    "        id_vacancies.extend(vacancy_ids)"
   ]
  },
  {
   "cell_type": "code",
   "execution_count": 8,
   "id": "0610a4c8",
   "metadata": {
    "pycharm": {
     "name": "#%%\n"
    }
   },
   "outputs": [
    {
     "data": {
      "text/plain": "3985"
     },
     "execution_count": 8,
     "metadata": {},
     "output_type": "execute_result"
    }
   ],
   "source": [
    "len(id_vacancies)"
   ]
  },
  {
   "cell_type": "code",
   "execution_count": 9,
   "id": "c159b443",
   "metadata": {
    "pycharm": {
     "name": "#%%\n"
    }
   },
   "outputs": [],
   "source": [
    "id_1 = id_vacancies[1::2]\n",
    "id_2 = id_vacancies[2::2]"
   ]
  },
  {
   "cell_type": "code",
   "execution_count": 11,
   "id": "67e65805",
   "metadata": {
    "pycharm": {
     "name": "#%%\n"
    }
   },
   "outputs": [
    {
     "data": {
      "text/plain": "  0%|          | 0/1992 [00:00<?, ?it/s]",
      "application/vnd.jupyter.widget-view+json": {
       "version_major": 2,
       "version_minor": 0,
       "model_id": "5fa6d5539139485380ffe5184094adac"
      }
     },
     "metadata": {},
     "output_type": "display_data"
    }
   ],
   "source": [
    "HEADERS = {'authority': 'pagead2.googlesyndication.com'\n",
    ",'method': 'GET',\n",
    "'path': '/pagead/gen_204?id=sodar2&v=224&t=2&li=gpt_2021072901&jk=2974559243404883&bg=!pqWlpeHNAAals0SOpbM7ACkAdvg8WiQ0fli2tdMy7F7yByuW_tVdglb_IiowfSr7FqiidEpDnw5LWwIAAAK9UgAAAIhoAQcKAE_Emv0SeIGiLk4mp-iPSdtLCpUV_VyWYLv1c_3DFxjViYs9sFEcG-ESgAw1DwgndsaVI_GS-VAnLbZv7zhNVtLQYHfiapQag62qeS4Tu9ngmQL4yyfdA-RIKOmbYCVyNojT1MO8VS630oi7OctwmLXKhH7o_hqGdUhCVop4Tm-kOKk0cR210reZqrZJI1f1tpLkQTAcmoHbjP_1rykPIM-E_mMRlTMYT0K911wZ91qwcgT3KP_S4zgtC4GXcsE0O5ppxeOelgq8D2zON1Zbv7QQUrH53YszN7goEdJ-BFg5Ywgjjz1OCJYBB5a_yJ8A7_vE52Z2cAU1VFkEWBQ8iuaM0t2EOUFJtfdgG9EUsunIdw7RYuQeuQE7fatLhJTVV2Vu6n_WIdxik2TU6m1dL5UBuyUZLLFV-GOVyUFrhzzH3oO4F6NhvPzgK61vxQNOph9pEuvh2uEJZvGynzR_3PNIwsQnSOpo_hsNZeKgtaE9nH0l38WeE3XTAHqqyqQAJ0oUL6uBrSPwokW7nd14F9aAkAmY4TS5b3JZ7ETZnXqlAufJn99dbuccHuL7fg0RLsq83sCwUqJCGaJhVNqZbTqr_B-Xc8q82_bnHMXQMac8HlxJOgdLLyd_Wi1Qrl4eLnUX5jQ8NMOEXKEJjpMFUT8Ps4GzjkBHxSsE6ilDbX1FZQSeSiwPRcIJsq0dbGj620BwJGcDc1EVavhi319o5lofuGAJij4HtjjDnKWqV8bZPNe4ArsDhI8jOqG3raDDdQMcrxOx2ErLuhNtYIEq9NApuYmxHT_l56BZSjtdbt1EsTYh9LNFKWGcTcsUVoCCBkott33-21WeOWydvSQ9hcIrNMgXPtKMtVsxjKWnDiHq6sJjR1f942OC8wlQnge1TNhd35RhQvdXUoVPKUHwaNR1ksOH9IpVcmRXiVaurAy6dIgGnztzLNV6VnWFonYW9c4T2-8Sn42LbPp-Uj7dS0mDg65weLntP6hoJFNbaYTKRjwcAZYH388AzIu-hCC60qL0Qf3yNQhPFhp0s0PCexllNFGV0GOz0_6UUReunkKtCMLHrNhx06U1TSlJ_hxpAGgz3n2dU07n2nSE0rmYCC59zlml8gZWeZk-Rw',\n",
    "'scheme': 'https',\n",
    "'accept': 'image/avif,image/webp,image/apng,image/svg+xml,image/*,*/*;q=0.8',\n",
    "'accept-encoding': 'gzip, deflate, br',\n",
    "'accept-language': 'ru,en;q=0.9',\n",
    "'referer': 'https://spb.hh.ru/',\n",
    "'sec-ch-ua':  'Not;A Brand\";v=\"99\", \"Yandex\";v=\"91\", \"Chromium\";v=\"91\"',\n",
    "'sec-ch-ua-mobile': '?0',\n",
    "'sec-fetch-dest': 'image',\n",
    "'sec-fetch-mode': 'no-cors',\n",
    "'sec-fetch-site': 'cross-site',\n",
    "'user-agent': 'Mozilla/5.0 (Windows NT 10.0; Win64; x64) AppleWebKit/537.36 (KHTML, like Gecko) Chrome/91.0.4472.135 YaBrowser/21.6.3.757 Yowser/2.5 Safari/537.36}'}\n",
    "\n",
    "full_vacancies = []\n",
    "for i in tqdm(id_1):\n",
    "    full_vacancies.append(requests.get( f'https://api.hh.ru/vacancies/{i}', headers = HEADERS ).json())\n"
   ]
  },
  {
   "cell_type": "code",
   "execution_count": 12,
   "id": "7eaff2b3",
   "metadata": {
    "pycharm": {
     "name": "#%%\n"
    }
   },
   "outputs": [],
   "source": [
    "with open ('vac_part1.json', 'w') as f:\n",
    "    json.dump(full_vacancies, f)"
   ]
  },
  {
   "cell_type": "code",
   "execution_count": 13,
   "id": "788379fe",
   "metadata": {
    "pycharm": {
     "name": "#%%\n"
    }
   },
   "outputs": [
    {
     "data": {
      "text/plain": "  0%|          | 0/1992 [00:00<?, ?it/s]",
      "application/vnd.jupyter.widget-view+json": {
       "version_major": 2,
       "version_minor": 0,
       "model_id": "97df7fe22fc44ef2b9864f78d3b8cf1a"
      }
     },
     "metadata": {},
     "output_type": "display_data"
    }
   ],
   "source": [
    "full_vacancies1 = []\n",
    "for i in tqdm(id_2):\n",
    "    full_vacancies1.append(requests.get( f'https://api.hh.ru/vacancies/{i}', headers = HEADERS ).json())\n"
   ]
  },
  {
   "cell_type": "code",
   "execution_count": 14,
   "id": "a2e40f0f",
   "metadata": {
    "pycharm": {
     "name": "#%%\n"
    }
   },
   "outputs": [],
   "source": [
    "with open ('vac_part2.json', 'w') as f:\n",
    "    json.dump(full_vacancies1, f)"
   ]
  },
  {
   "cell_type": "code",
   "execution_count": 15,
   "id": "b1389ced",
   "metadata": {
    "pycharm": {
     "name": "#%%\n"
    }
   },
   "outputs": [],
   "source": [
    "with open('vac_part1.json', \"r\") as read_file:\n",
    "    vac_1 = json.load(read_file)\n",
    "    \n",
    "with open('vac_part2.json', \"r\") as read_file:\n",
    "    vac_2 = json.load(read_file)"
   ]
  },
  {
   "cell_type": "code",
   "execution_count": 16,
   "id": "c3727d2e",
   "metadata": {
    "pycharm": {
     "name": "#%%\n"
    }
   },
   "outputs": [],
   "source": [
    "vac = []\n",
    "vac.extend(vac_1)\n",
    "vac.extend(vac_2)"
   ]
  },
  {
   "cell_type": "code",
   "execution_count": 17,
   "id": "0f5f31db",
   "metadata": {
    "pycharm": {
     "name": "#%%\n"
    }
   },
   "outputs": [
    {
     "data": {
      "text/plain": "  0%|          | 0/3984 [00:00<?, ?it/s]",
      "application/vnd.jupyter.widget-view+json": {
       "version_major": 2,
       "version_minor": 0,
       "model_id": "4922d33456db48c0b6e5a17782c595fb"
      }
     },
     "metadata": {},
     "output_type": "display_data"
    }
   ],
   "source": [
    "for i in tqdm(range(len(vac))):\n",
    "    if vac[i]['key_skills'] == []:\n",
    "        vac[i]['key_skills'] = 'Отсутствует'\n",
    "    else:\n",
    "        skills = []\n",
    "        for j in vac[i]['key_skills']:  \n",
    "            skills.append(j['name'])\n",
    "        vac[i]['key_skills'] = skills"
   ]
  },
  {
   "cell_type": "code",
   "execution_count": 18,
   "id": "0f7d2e62",
   "metadata": {
    "pycharm": {
     "name": "#%%\n"
    }
   },
   "outputs": [
    {
     "data": {
      "text/plain": "  0%|          | 0/3984 [00:00<?, ?it/s]",
      "application/vnd.jupyter.widget-view+json": {
       "version_major": 2,
       "version_minor": 0,
       "model_id": "fd6cf43119ca443b859c14aee2846527"
      }
     },
     "metadata": {},
     "output_type": "display_data"
    }
   ],
   "source": [
    "split = ['<p>','</p>' '&quot', '</strong>', '<strong>', '</p>  </p>', '</p>', '</li> <li>', '</li> </ul>',\n",
    "        '<ul> <li>', ' &quot', '<ul><li>','</em> ', '<em>', '</b>', '<b>']\n",
    "for i in tqdm(range(len(vac))):\n",
    "    if vac[i]['description'] is None:\n",
    "        continue\n",
    "    for el in split:\n",
    "        vac[i]['description'] = vac[i]['description'].split(el)\n",
    "        vac[i]['description'] = ''.join(vac[i]['description'])"
   ]
  },
  {
   "cell_type": "code",
   "execution_count": 19,
   "id": "1df24ce7",
   "metadata": {
    "pycharm": {
     "name": "#%%\n"
    }
   },
   "outputs": [],
   "source": [
    "df = pd.DataFrame(vac)"
   ]
  },
  {
   "cell_type": "code",
   "execution_count": 20,
   "id": "996e1620",
   "metadata": {
    "pycharm": {
     "name": "#%%\n"
    }
   },
   "outputs": [],
   "source": [
    "df = df[['id' , 'name','salary','department','description', 'key_skills', 'published_at', 'created_at']]"
   ]
  },
  {
   "cell_type": "code",
   "execution_count": 21,
   "id": "af4a2ae6",
   "metadata": {
    "collapsed": true,
    "pycharm": {
     "name": "#%%\n"
    }
   },
   "outputs": [
    {
     "data": {
      "text/plain": "            id                                               name  \\\n0     68276840           Специалист по экономической безопасности   \n1     67966495  Кредитный инспектор по работе с юридическими л...   \n2     67402936                   Старший менеджер по обслуживанию   \n3     68215869                      Специалист по прямым продажам   \n4     67391578                  Клиентский менеджер прямых продаж   \n...        ...                                                ...   \n3979  68160690                       Lead/Senior Python developer   \n3980  67799755                     Менеджер по работе с клиентами   \n3981  67799756                     Менеджер по работе с клиентами   \n3982  67799754                     Менеджер по работе с клиентами   \n3983  67799537                  Клиентский менеджер прямых продаж   \n\n                                                 salary  \\\n0                                                  None   \n1                                                  None   \n2     {'from': 31500, 'to': None, 'currency': 'RUR',...   \n3     {'from': 47400, 'to': None, 'currency': 'RUR',...   \n4     {'from': 47400, 'to': None, 'currency': 'RUR',...   \n...                                                 ...   \n3979                                               None   \n3980  {'from': 98800, 'to': None, 'currency': 'RUR',...   \n3981  {'from': 98800, 'to': None, 'currency': 'RUR',...   \n3982  {'from': 98800, 'to': None, 'currency': 'RUR',...   \n3983  {'from': 98800, 'to': None, 'currency': 'RUR',...   \n\n                                             department  \\\n0     {'id': '3529-3529-prof', 'name': 'Сбер для экс...   \n1     {'id': '3529-3529-prof', 'name': 'Сбер для экс...   \n2     {'id': '3529-3529-prof', 'name': 'Сбер для экс...   \n3                                                  None   \n4     {'id': '3529-3529-stat', 'name': 'Сбер. Начало...   \n...                                                 ...   \n3979         {'id': '3529-3529-it', 'name': 'Сбер. IT'}   \n3980  {'id': '3529-3529-stat', 'name': 'Сбер. Начало...   \n3981  {'id': '3529-3529-stat', 'name': 'Сбер. Начало...   \n3982  {'id': '3529-3529-stat', 'name': 'Сбер. Начало...   \n3983  {'id': '3529-3529-stat', 'name': 'Сбер. Начало...   \n\n                                            description  \\\n0     Обязанности: делопроизводство, ведение служебн...   \n1     Обязанности: анализ финансово-хозяйственной де...   \n2     Сбер — лучший работодатель России. У нас более...   \n3     Сбер — лучший работодатель России. У нас более...   \n4     Сбер — лучший работодатель России. У нас более...   \n...                                                 ...   \n3979  Команда разрабатывает внутренний сервис для ав...   \n3980  Сбер — лучший работодатель России. У нас более...   \n3981  Сбер — лучший работодатель России. У нас более...   \n3982  Сбер — лучший работодатель России. У нас более...   \n3983  Сбер — лучший работодатель России. У нас более...   \n\n                                             key_skills  \\\n0                                           Отсутствует   \n1                                           Отсутствует   \n2                                           Отсутствует   \n3                                           Отсутствует   \n4                                           Отсутствует   \n...                                                 ...   \n3979             [Golang, Python, Git, PostgreSQL, SQL]   \n3980               [Активные продажи, Холодные продажи]   \n3981               [Активные продажи, Холодные продажи]   \n3982               [Активные продажи, Холодные продажи]   \n3983  [Проведение презентаций, Поиск и привлечение к...   \n\n                  published_at                created_at  \n0     2022-07-29T10:43:51+0300  2022-07-29T10:43:51+0300  \n1     2022-07-20T07:26:14+0300  2022-07-20T07:26:14+0300  \n2     2022-07-31T13:01:49+0300  2022-07-31T13:01:49+0300  \n3     2022-07-27T17:16:51+0300  2022-07-27T17:16:51+0300  \n4     2022-08-01T09:05:49+0300  2022-08-01T09:05:49+0300  \n...                        ...                       ...  \n3979  2022-07-26T15:02:00+0300  2022-07-26T15:02:00+0300  \n3980  2022-08-01T09:03:54+0300  2022-08-01T09:03:54+0300  \n3981  2022-08-01T09:03:54+0300  2022-08-01T09:03:54+0300  \n3982  2022-08-01T09:03:53+0300  2022-08-01T09:03:53+0300  \n3983  2022-08-01T09:03:54+0300  2022-08-01T09:03:54+0300  \n\n[3984 rows x 8 columns]",
      "text/html": "<div>\n<style scoped>\n    .dataframe tbody tr th:only-of-type {\n        vertical-align: middle;\n    }\n\n    .dataframe tbody tr th {\n        vertical-align: top;\n    }\n\n    .dataframe thead th {\n        text-align: right;\n    }\n</style>\n<table border=\"1\" class=\"dataframe\">\n  <thead>\n    <tr style=\"text-align: right;\">\n      <th></th>\n      <th>id</th>\n      <th>name</th>\n      <th>salary</th>\n      <th>department</th>\n      <th>description</th>\n      <th>key_skills</th>\n      <th>published_at</th>\n      <th>created_at</th>\n    </tr>\n  </thead>\n  <tbody>\n    <tr>\n      <th>0</th>\n      <td>68276840</td>\n      <td>Специалист по экономической безопасности</td>\n      <td>None</td>\n      <td>{'id': '3529-3529-prof', 'name': 'Сбер для экс...</td>\n      <td>Обязанности: делопроизводство, ведение служебн...</td>\n      <td>Отсутствует</td>\n      <td>2022-07-29T10:43:51+0300</td>\n      <td>2022-07-29T10:43:51+0300</td>\n    </tr>\n    <tr>\n      <th>1</th>\n      <td>67966495</td>\n      <td>Кредитный инспектор по работе с юридическими л...</td>\n      <td>None</td>\n      <td>{'id': '3529-3529-prof', 'name': 'Сбер для экс...</td>\n      <td>Обязанности: анализ финансово-хозяйственной де...</td>\n      <td>Отсутствует</td>\n      <td>2022-07-20T07:26:14+0300</td>\n      <td>2022-07-20T07:26:14+0300</td>\n    </tr>\n    <tr>\n      <th>2</th>\n      <td>67402936</td>\n      <td>Старший менеджер по обслуживанию</td>\n      <td>{'from': 31500, 'to': None, 'currency': 'RUR',...</td>\n      <td>{'id': '3529-3529-prof', 'name': 'Сбер для экс...</td>\n      <td>Сбер — лучший работодатель России. У нас более...</td>\n      <td>Отсутствует</td>\n      <td>2022-07-31T13:01:49+0300</td>\n      <td>2022-07-31T13:01:49+0300</td>\n    </tr>\n    <tr>\n      <th>3</th>\n      <td>68215869</td>\n      <td>Специалист по прямым продажам</td>\n      <td>{'from': 47400, 'to': None, 'currency': 'RUR',...</td>\n      <td>None</td>\n      <td>Сбер — лучший работодатель России. У нас более...</td>\n      <td>Отсутствует</td>\n      <td>2022-07-27T17:16:51+0300</td>\n      <td>2022-07-27T17:16:51+0300</td>\n    </tr>\n    <tr>\n      <th>4</th>\n      <td>67391578</td>\n      <td>Клиентский менеджер прямых продаж</td>\n      <td>{'from': 47400, 'to': None, 'currency': 'RUR',...</td>\n      <td>{'id': '3529-3529-stat', 'name': 'Сбер. Начало...</td>\n      <td>Сбер — лучший работодатель России. У нас более...</td>\n      <td>Отсутствует</td>\n      <td>2022-08-01T09:05:49+0300</td>\n      <td>2022-08-01T09:05:49+0300</td>\n    </tr>\n    <tr>\n      <th>...</th>\n      <td>...</td>\n      <td>...</td>\n      <td>...</td>\n      <td>...</td>\n      <td>...</td>\n      <td>...</td>\n      <td>...</td>\n      <td>...</td>\n    </tr>\n    <tr>\n      <th>3979</th>\n      <td>68160690</td>\n      <td>Lead/Senior Python developer</td>\n      <td>None</td>\n      <td>{'id': '3529-3529-it', 'name': 'Сбер. IT'}</td>\n      <td>Команда разрабатывает внутренний сервис для ав...</td>\n      <td>[Golang, Python, Git, PostgreSQL, SQL]</td>\n      <td>2022-07-26T15:02:00+0300</td>\n      <td>2022-07-26T15:02:00+0300</td>\n    </tr>\n    <tr>\n      <th>3980</th>\n      <td>67799755</td>\n      <td>Менеджер по работе с клиентами</td>\n      <td>{'from': 98800, 'to': None, 'currency': 'RUR',...</td>\n      <td>{'id': '3529-3529-stat', 'name': 'Сбер. Начало...</td>\n      <td>Сбер — лучший работодатель России. У нас более...</td>\n      <td>[Активные продажи, Холодные продажи]</td>\n      <td>2022-08-01T09:03:54+0300</td>\n      <td>2022-08-01T09:03:54+0300</td>\n    </tr>\n    <tr>\n      <th>3981</th>\n      <td>67799756</td>\n      <td>Менеджер по работе с клиентами</td>\n      <td>{'from': 98800, 'to': None, 'currency': 'RUR',...</td>\n      <td>{'id': '3529-3529-stat', 'name': 'Сбер. Начало...</td>\n      <td>Сбер — лучший работодатель России. У нас более...</td>\n      <td>[Активные продажи, Холодные продажи]</td>\n      <td>2022-08-01T09:03:54+0300</td>\n      <td>2022-08-01T09:03:54+0300</td>\n    </tr>\n    <tr>\n      <th>3982</th>\n      <td>67799754</td>\n      <td>Менеджер по работе с клиентами</td>\n      <td>{'from': 98800, 'to': None, 'currency': 'RUR',...</td>\n      <td>{'id': '3529-3529-stat', 'name': 'Сбер. Начало...</td>\n      <td>Сбер — лучший работодатель России. У нас более...</td>\n      <td>[Активные продажи, Холодные продажи]</td>\n      <td>2022-08-01T09:03:53+0300</td>\n      <td>2022-08-01T09:03:53+0300</td>\n    </tr>\n    <tr>\n      <th>3983</th>\n      <td>67799537</td>\n      <td>Клиентский менеджер прямых продаж</td>\n      <td>{'from': 98800, 'to': None, 'currency': 'RUR',...</td>\n      <td>{'id': '3529-3529-stat', 'name': 'Сбер. Начало...</td>\n      <td>Сбер — лучший работодатель России. У нас более...</td>\n      <td>[Проведение презентаций, Поиск и привлечение к...</td>\n      <td>2022-08-01T09:03:54+0300</td>\n      <td>2022-08-01T09:03:54+0300</td>\n    </tr>\n  </tbody>\n</table>\n<p>3984 rows × 8 columns</p>\n</div>"
     },
     "execution_count": 21,
     "metadata": {},
     "output_type": "execute_result"
    }
   ],
   "source": [
    "df"
   ]
  },
  {
   "cell_type": "code",
   "execution_count": 22,
   "id": "61ffd446",
   "metadata": {
    "pycharm": {
     "name": "#%%\n"
    }
   },
   "outputs": [],
   "source": [
    "df[['published_at', 'created_at']] = df[['published_at', 'created_at']].astype('datetime64')\n",
    "df['published_at_dayofweek'] = df['published_at'].dt.dayofweek"
   ]
  },
  {
   "cell_type": "code",
   "execution_count": 23,
   "id": "f786f35b",
   "metadata": {
    "pycharm": {
     "name": "#%%\n"
    }
   },
   "outputs": [
    {
     "data": {
      "text/plain": "published_at_dayofweek\n0    1325\n1     589\n2     538\n3     658\n4     742\n5      48\n6      84\nName: id, dtype: int64"
     },
     "execution_count": 23,
     "metadata": {},
     "output_type": "execute_result"
    }
   ],
   "source": [
    "df.groupby('published_at_dayofweek')['id'].count()"
   ]
  },
  {
   "cell_type": "code",
   "execution_count": null,
   "id": "942de620",
   "metadata": {
    "pycharm": {
     "name": "#%%\n"
    }
   },
   "outputs": [],
   "source": [
    "# больше всего вакансий выкладывается в понедельник (1325) следом пятница (742). во вторник, среду и четверг вакансии выкладываются достаточно равномерно (589, 538 и 658 соответственно) заметно меньше вакансий выкладывается в субботу в воскресенье (всего 48 и 84 соответственно)"
   ]
  },
  {
   "cell_type": "code",
   "execution_count": 33,
   "outputs": [],
   "source": [
    "import matplotlib.pyplot as plt"
   ],
   "metadata": {
    "collapsed": false,
    "pycharm": {
     "name": "#%%\n"
    }
   }
  },
  {
   "cell_type": "code",
   "execution_count": 34,
   "id": "d48b343d",
   "metadata": {
    "pycharm": {
     "name": "#%%\n"
    }
   },
   "outputs": [
    {
     "data": {
      "text/plain": "<Figure size 1440x720 with 1 Axes>",
      "image/png": "[encoded data removed]"
     },
     "metadata": {
      "needs_background": "light"
     },
     "output_type": "display_data"
    }
   ],
   "source": [
    "df['published_at'].hist(figsize = [20,10])\n",
    "plt.title('Гистограмма распределения вакансий по дате публикации')\n",
    "plt.xlabel('Дата публикации')\n",
    "plt.ylabel('Кол-во вакансий')\n",
    "plt.show()"
   ]
  },
  {
   "cell_type": "code",
   "execution_count": null,
   "id": "9f88b082",
   "metadata": {
    "pycharm": {
     "name": "#%%\n"
    }
   },
   "outputs": [],
   "source": [
    "#большая часть выгруженных вакансий опубликованы за последнюю неделю"
   ]
  },
  {
   "cell_type": "code",
   "execution_count": 25,
   "id": "5b5a2e06",
   "metadata": {
    "pycharm": {
     "name": "#%%\n"
    }
   },
   "outputs": [],
   "source": [
    "df['name'] = df.name.str.lower()"
   ]
  },
  {
   "cell_type": "code",
   "execution_count": 26,
   "id": "c7ca8ac5",
   "metadata": {
    "pycharm": {
     "name": "#%%\n"
    }
   },
   "outputs": [],
   "source": [
    "vac_for_me = []\n",
    "for el in df['name'].values:\n",
    "    if 'data analyst'  in el:\n",
    "        vac_for_me.append(el)"
   ]
  },
  {
   "cell_type": "code",
   "execution_count": 27,
   "id": "86d44669",
   "metadata": {
    "pycharm": {
     "name": "#%%\n"
    }
   },
   "outputs": [
    {
     "data": {
      "text/plain": "['data analyst',\n 'data engineer / data analyst',\n 'senior data analyst (в трайб «массовая персонализация»)',\n 'data analyst \"corporate customers 360\"',\n 'data analyst',\n 'data analyst',\n 'data analyst',\n 'data analyst / data engineer (биометрия)',\n 'data analyst sberdevices',\n 'data engineer / data analyst (sberdata)']"
     },
     "execution_count": 27,
     "metadata": {},
     "output_type": "execute_result"
    }
   ],
   "source": [
    "vac_for_me"
   ]
  },
  {
   "cell_type": "code",
   "execution_count": 28,
   "id": "021e065a",
   "metadata": {
    "pycharm": {
     "name": "#%%\n"
    }
   },
   "outputs": [
    {
     "data": {
      "text/plain": "            id                                               name  \\\n1325  67511220                       data engineer / data analyst   \n1357  67900726  senior data analyst (в трайб «массовая персона...   \n1646  67707096                                       data analyst   \n2709  55301449                                       data analyst   \n3527  67537155           data analyst / data engineer (биометрия)   \n3594  67406605                           data analyst sberdevices   \n3687  66933327            data engineer / data analyst (sberdata)   \n\n                                                 salary  \\\n1325                                               None   \n1357                                               None   \n1646                                               None   \n2709  {'from': 115000, 'to': None, 'currency': 'RUR'...   \n3527                                               None   \n3594                                               None   \n3687                                               None   \n\n                                             department  \\\n1325         {'id': '3529-3529-it', 'name': 'Сбер. IT'}   \n1357  {'id': '3529-3529-prof', 'name': 'Сбер для экс...   \n1646         {'id': '3529-3529-it', 'name': 'Сбер. IT'}   \n2709         {'id': '3529-3529-it', 'name': 'Сбер. IT'}   \n3527         {'id': '3529-3529-it', 'name': 'Сбер. IT'}   \n3594         {'id': '3529-3529-it', 'name': 'Сбер. IT'}   \n3687         {'id': '3529-3529-it', 'name': 'Сбер. IT'}   \n\n                                            description  \\\n1325  Мы - новая команда Управления ИТ «Кредитные пр...   \n1357  Ищем аналитика данных в команду розничного биз...   \n1646  Мы - это самый большой Бэкофис процессинга в Е...   \n2709  Сбер - это крупнейшая цифровая экосистема. Тех...   \n3527  Мы команда SmartBio занимающаяся разработкой а...   \n3594  SberDevices - новое направление компании, кото...   \n3687  В SberData мы создаем централизованное хранили...   \n\n                                             key_skills        published_at  \\\n1325      [Big Data, ETL, ORACLE, СУБД, CI, Bash, Java] 2022-07-05 13:57:28   \n1357  [Teradata, SQL, Python, Анализ данных, MS SQL,... 2022-07-19 06:43:05   \n1646   [SQL, XML, kafka, JSON API, REST, Анализ данных] 2022-07-12 12:28:54   \n2709                     [SQL, Big Data, Hadoop, Spark] 2022-07-10 11:19:07   \n3527  [Python, SQL, Linux, Английский язык, Numpy, P... 2022-07-06 09:52:28   \n3594  [Python, SQL, Анализ данных, ML, pandas, A/B т... 2022-07-27 13:14:27   \n3687          [Hadoop, NoSQL, Администрирование, Kafka] 2022-07-27 10:11:41   \n\n              created_at  published_at_dayofweek  \n1325 2022-07-05 13:57:28                       1  \n1357 2022-07-19 06:43:05                       1  \n1646 2022-07-12 12:28:54                       1  \n2709 2022-07-10 11:19:07                       6  \n3527 2022-07-06 09:52:28                       2  \n3594 2022-07-27 13:14:27                       2  \n3687 2022-07-27 10:11:41                       2  ",
      "text/html": "<div>\n<style scoped>\n    .dataframe tbody tr th:only-of-type {\n        vertical-align: middle;\n    }\n\n    .dataframe tbody tr th {\n        vertical-align: top;\n    }\n\n    .dataframe thead th {\n        text-align: right;\n    }\n</style>\n<table border=\"1\" class=\"dataframe\">\n  <thead>\n    <tr style=\"text-align: right;\">\n      <th></th>\n      <th>id</th>\n      <th>name</th>\n      <th>salary</th>\n      <th>department</th>\n      <th>description</th>\n      <th>key_skills</th>\n      <th>published_at</th>\n      <th>created_at</th>\n      <th>published_at_dayofweek</th>\n    </tr>\n  </thead>\n  <tbody>\n    <tr>\n      <th>1325</th>\n      <td>67511220</td>\n      <td>data engineer / data analyst</td>\n      <td>None</td>\n      <td>{'id': '3529-3529-it', 'name': 'Сбер. IT'}</td>\n      <td>Мы - новая команда Управления ИТ «Кредитные пр...</td>\n      <td>[Big Data, ETL, ORACLE, СУБД, CI, Bash, Java]</td>\n      <td>2022-07-05 13:57:28</td>\n      <td>2022-07-05 13:57:28</td>\n      <td>1</td>\n    </tr>\n    <tr>\n      <th>1357</th>\n      <td>67900726</td>\n      <td>senior data analyst (в трайб «массовая персона...</td>\n      <td>None</td>\n      <td>{'id': '3529-3529-prof', 'name': 'Сбер для экс...</td>\n      <td>Ищем аналитика данных в команду розничного биз...</td>\n      <td>[Teradata, SQL, Python, Анализ данных, MS SQL,...</td>\n      <td>2022-07-19 06:43:05</td>\n      <td>2022-07-19 06:43:05</td>\n      <td>1</td>\n    </tr>\n    <tr>\n      <th>1646</th>\n      <td>67707096</td>\n      <td>data analyst</td>\n      <td>None</td>\n      <td>{'id': '3529-3529-it', 'name': 'Сбер. IT'}</td>\n      <td>Мы - это самый большой Бэкофис процессинга в Е...</td>\n      <td>[SQL, XML, kafka, JSON API, REST, Анализ данных]</td>\n      <td>2022-07-12 12:28:54</td>\n      <td>2022-07-12 12:28:54</td>\n      <td>1</td>\n    </tr>\n    <tr>\n      <th>2709</th>\n      <td>55301449</td>\n      <td>data analyst</td>\n      <td>{'from': 115000, 'to': None, 'currency': 'RUR'...</td>\n      <td>{'id': '3529-3529-it', 'name': 'Сбер. IT'}</td>\n      <td>Сбер - это крупнейшая цифровая экосистема. Тех...</td>\n      <td>[SQL, Big Data, Hadoop, Spark]</td>\n      <td>2022-07-10 11:19:07</td>\n      <td>2022-07-10 11:19:07</td>\n      <td>6</td>\n    </tr>\n    <tr>\n      <th>3527</th>\n      <td>67537155</td>\n      <td>data analyst / data engineer (биометрия)</td>\n      <td>None</td>\n      <td>{'id': '3529-3529-it', 'name': 'Сбер. IT'}</td>\n      <td>Мы команда SmartBio занимающаяся разработкой а...</td>\n      <td>[Python, SQL, Linux, Английский язык, Numpy, P...</td>\n      <td>2022-07-06 09:52:28</td>\n      <td>2022-07-06 09:52:28</td>\n      <td>2</td>\n    </tr>\n    <tr>\n      <th>3594</th>\n      <td>67406605</td>\n      <td>data analyst sberdevices</td>\n      <td>None</td>\n      <td>{'id': '3529-3529-it', 'name': 'Сбер. IT'}</td>\n      <td>SberDevices - новое направление компании, кото...</td>\n      <td>[Python, SQL, Анализ данных, ML, pandas, A/B т...</td>\n      <td>2022-07-27 13:14:27</td>\n      <td>2022-07-27 13:14:27</td>\n      <td>2</td>\n    </tr>\n    <tr>\n      <th>3687</th>\n      <td>66933327</td>\n      <td>data engineer / data analyst (sberdata)</td>\n      <td>None</td>\n      <td>{'id': '3529-3529-it', 'name': 'Сбер. IT'}</td>\n      <td>В SberData мы создаем централизованное хранили...</td>\n      <td>[Hadoop, NoSQL, Администрирование, Kafka]</td>\n      <td>2022-07-27 10:11:41</td>\n      <td>2022-07-27 10:11:41</td>\n      <td>2</td>\n    </tr>\n  </tbody>\n</table>\n</div>"
     },
     "execution_count": 28,
     "metadata": {},
     "output_type": "execute_result"
    }
   ],
   "source": [
    "df_vac = df[df['name'].isin(vac_for_me)]\n",
    "df_vac = df_vac[df_vac['key_skills'] != 'Отсутствует']\n",
    "df_vac"
   ]
  },
  {
   "cell_type": "code",
   "execution_count": 29,
   "id": "55d2a4f9",
   "metadata": {
    "pycharm": {
     "name": "#%%\n"
    }
   },
   "outputs": [],
   "source": [
    "vac_skills = df_vac['key_skills'].to_list()"
   ]
  },
  {
   "cell_type": "code",
   "execution_count": 30,
   "id": "32965547",
   "metadata": {
    "pycharm": {
     "name": "#%%\n"
    }
   },
   "outputs": [],
   "source": [
    "skill_list = []\n",
    "for i in vac_skills:\n",
    "    skill_list.extend(i)\n",
    "    "
   ]
  },
  {
   "cell_type": "code",
   "execution_count": 31,
   "id": "3799badd",
   "metadata": {
    "pycharm": {
     "name": "#%%\n"
    }
   },
   "outputs": [
    {
     "data": {
      "text/plain": "Counter({'Big Data': 2,\n         'ETL': 1,\n         'ORACLE': 2,\n         'СУБД': 1,\n         'CI': 1,\n         'Bash': 1,\n         'Java': 1,\n         'Teradata': 1,\n         'SQL': 5,\n         'Python': 3,\n         'Анализ данных': 3,\n         'MS SQL': 1,\n         'Навыки презентации': 1,\n         'Аналитика': 1,\n         'Qlik View': 1,\n         'PowerPoint': 1,\n         'BI': 1,\n         'Sas': 1,\n         'Agile': 1,\n         'Hive': 1,\n         'XML': 1,\n         'kafka': 1,\n         'JSON API': 1,\n         'REST': 1,\n         'Hadoop': 2,\n         'Spark': 1,\n         'Linux': 1,\n         'Английский язык': 1,\n         'Numpy': 1,\n         'Pandas': 1,\n         'Математический анализ': 1,\n         'Машинное обучение': 1,\n         'ML': 1,\n         'pandas': 1,\n         'A/B тесты': 1,\n         'Ad Hoc Analysis': 1,\n         'NoSQL': 1,\n         'Администрирование': 1,\n         'Kafka': 1})"
     },
     "execution_count": 31,
     "metadata": {},
     "output_type": "execute_result"
    }
   ],
   "source": [
    "Counter(skill_list)"
   ]
  },
  {
   "cell_type": "code",
   "execution_count": null,
   "id": "338a46d6",
   "metadata": {
    "pycharm": {
     "name": "#%%\n"
    }
   },
   "outputs": [],
   "source": [
    "# три основных скилла для Data-аналитика - это SQL, Python и  анализ данных."
   ]
  }
 ],
 "metadata": {
  "kernelspec": {
   "display_name": "Python 3",
   "language": "python",
   "name": "python3"
  },
  "language_info": {
   "codemirror_mode": {
    "name": "ipython",
    "version": 3
   },
   "file_extension": ".py",
   "mimetype": "text/x-python",
   "name": "python",
   "nbconvert_exporter": "python",
   "pygments_lexer": "ipython3",
   "version": "3.8.8"
  },
  "toc": {
   "base_numbering": 1,
   "nav_menu": {},
   "number_sections": true,
   "sideBar": true,
   "skip_h1_title": false,
   "title_cell": "Table of Contents",
   "title_sidebar": "Contents",
   "toc_cell": true,
   "toc_position": {},
   "toc_section_display": true,
   "toc_window_display": false
  }
 },
 "nbformat": 4,
 "nbformat_minor": 5
}